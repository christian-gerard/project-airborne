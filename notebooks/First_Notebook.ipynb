{
 "cells": [
  {
   "cell_type": "code",
   "execution_count": 7,
   "id": "a3f77abc-5966-4b32-a5fa-8e20807008ef",
   "metadata": {},
   "outputs": [
    {
     "name": "stdout",
     "output_type": "stream",
     "text": [
      "             id                           title  \\\n",
      "0     tt5988370                            Reis   \n",
      "1     tt7221896  Cumali Ceber: Allah Seni Alsin   \n",
      "2    tt13423846                      321 Action   \n",
      "3    tt20255706                  The Pogmentary   \n",
      "4    tt21403988                The Last Pharaoh   \n",
      "..          ...                             ...   \n",
      "995   tt4334266                   The Bad Batch   \n",
      "996   tt1712170                      Alex Cross   \n",
      "997   tt0463872    Asterix at the Olympic Games   \n",
      "998   tt1731697              The Lords of Salem   \n",
      "999  tt13964390                     Under Paris   \n",
      "\n",
      "                            genres  averageRating  numVotes  releaseYear  \n",
      "0                 Biography, Drama            1.0     74171         2017  \n",
      "1                           Comedy            1.0     39469         2017  \n",
      "2                            Drama            1.0     10216         2020  \n",
      "3    Biography, Documentary, Sport            1.1     13803         2022  \n",
      "4      Documentary, Drama, History            1.1     12022         2023  \n",
      "..                             ...            ...       ...          ...  \n",
      "995        Action, Horror, Mystery            5.2     36213         2016  \n",
      "996         Action, Crime, Mystery            5.2     35741         2012  \n",
      "997      Adventure, Comedy, Family            5.2     33151         2008  \n",
      "998               Horror, Thriller            5.2     33027         2012  \n",
      "999          Action, Drama, Horror            5.2     32897         2024  \n",
      "\n",
      "[1000 rows x 6 columns]\n"
     ]
    }
   ],
   "source": [
    "import kagglehub\n",
    "import pandas as pd\n",
    "import numpy as np\n",
    "\n",
    "path = kagglehub.dataset_download(\"octopusteam/imdb-top-1000-worst-rated-titles\")\n",
    "\n",
    "import os\n",
    "files = os.listdir(path)\n",
    "\n",
    "csv_file = os.path.join(path, 'data.csv')\n",
    "\n",
    "df = pd.read_csv(csv_file)\n",
    "\n",
    "print(df)\n"
   ]
  }
 ],
 "metadata": {
  "kernelspec": {
   "display_name": "Python 3 (ipykernel)",
   "language": "python",
   "name": "python3"
  },
  "language_info": {
   "codemirror_mode": {
    "name": "ipython",
    "version": 3
   },
   "file_extension": ".py",
   "mimetype": "text/x-python",
   "name": "python",
   "nbconvert_exporter": "python",
   "pygments_lexer": "ipython3",
   "version": "3.12.2"
  }
 },
 "nbformat": 4,
 "nbformat_minor": 5
}
