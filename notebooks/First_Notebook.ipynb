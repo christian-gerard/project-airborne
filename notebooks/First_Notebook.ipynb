{
 "cells": [
  {
   "cell_type": "code",
   "execution_count": 3,
   "id": "a3f77abc-5966-4b32-a5fa-8e20807008ef",
   "metadata": {},
   "outputs": [
    {
     "name": "stdout",
     "output_type": "stream",
     "text": [
      "Path to dataset files: /Users/christiangerard/.cache/kagglehub/datasets/octopusteam/imdb-top-1000-worst-rated-titles/versions/41\n",
      "Files in dataset: ['data.csv']\n",
      "           id                           title                         genres  \\\n",
      "0   tt5988370                            Reis               Biography, Drama   \n",
      "1   tt7221896  Cumali Ceber: Allah Seni Alsin                         Comedy   \n",
      "2  tt13423846                      321 Action                          Drama   \n",
      "3  tt20255706                  The Pogmentary  Biography, Documentary, Sport   \n",
      "4  tt21403988                The Last Pharaoh    Documentary, Drama, History   \n",
      "\n",
      "   averageRating  numVotes  releaseYear  \n",
      "0            1.0     74171         2017  \n",
      "1            1.0     39468         2017  \n",
      "2            1.0     10216         2020  \n",
      "3            1.1     13802         2022  \n",
      "4            1.1     12020         2023  \n"
     ]
    }
   ],
   "source": [
    "import kagglehub\n",
    "import pandas as pd\n",
    "\n",
    "# Download latest version\n",
    "path = kagglehub.dataset_download(\"octopusteam/imdb-top-1000-worst-rated-titles\")\n",
    "\n",
    "print(\"Path to dataset files:\", path)\n",
    "\n",
    "# List the files in the downloaded dataset directory to identify the exact file\n",
    "import os\n",
    "files = os.listdir(path)\n",
    "print(\"Files in dataset:\", files)\n",
    "\n",
    "# Assuming the dataset is in CSV format and is named something like 'imdb_top_1000_worst_rated.csv'\n",
    "# Replace 'your_dataset_file.csv' with the actual filename you find\n",
    "csv_file = os.path.join(path, 'data.csv')  # Update with the actual filename\n",
    "\n",
    "# Load the dataset into a DataFrame\n",
    "df = pd.read_csv(csv_file)\n",
    "\n",
    "# Display the first few rows of the dataset\n",
    "print(df.head())"
   ]
  },
  {
   "cell_type": "code",
   "execution_count": null,
   "id": "184eb959-5fc7-4d2d-ba6a-388d61203be4",
   "metadata": {},
   "outputs": [],
   "source": []
  }
 ],
 "metadata": {
  "kernelspec": {
   "display_name": "Python 3 (ipykernel)",
   "language": "python",
   "name": "python3"
  },
  "language_info": {
   "codemirror_mode": {
    "name": "ipython",
    "version": 3
   },
   "file_extension": ".py",
   "mimetype": "text/x-python",
   "name": "python",
   "nbconvert_exporter": "python",
   "pygments_lexer": "ipython3",
   "version": "3.12.2"
  }
 },
 "nbformat": 4,
 "nbformat_minor": 5
}
